{
 "cells": [
  {
   "cell_type": "code",
   "execution_count": 1,
   "id": "48086d2d",
   "metadata": {},
   "outputs": [
    {
     "name": "stdout",
     "output_type": "stream",
     "text": [
      "Requirement already satisfied: webdriver-manager in d:\\pythonfiles\\lib\\site-packages (4.0.2)Note: you may need to restart the kernel to use updated packages.\n",
      "\n",
      "Requirement already satisfied: requests in d:\\pythonfiles\\lib\\site-packages (from webdriver-manager) (2.31.0)\n",
      "Requirement already satisfied: python-dotenv in d:\\pythonfiles\\lib\\site-packages (from webdriver-manager) (0.21.0)\n",
      "Requirement already satisfied: packaging in d:\\pythonfiles\\lib\\site-packages (from webdriver-manager) (23.1)\n",
      "Requirement already satisfied: charset-normalizer<4,>=2 in d:\\pythonfiles\\lib\\site-packages (from requests->webdriver-manager) (2.0.4)\n",
      "Requirement already satisfied: idna<4,>=2.5 in d:\\pythonfiles\\lib\\site-packages (from requests->webdriver-manager) (3.4)\n",
      "Requirement already satisfied: urllib3<3,>=1.21.1 in d:\\pythonfiles\\lib\\site-packages (from requests->webdriver-manager) (1.26.16)\n",
      "Requirement already satisfied: certifi>=2017.4.17 in d:\\pythonfiles\\lib\\site-packages (from requests->webdriver-manager) (2024.2.2)\n"
     ]
    }
   ],
   "source": [
    "pip install webdriver-manager"
   ]
  },
  {
   "cell_type": "code",
   "execution_count": 2,
   "id": "59b0a02f",
   "metadata": {},
   "outputs": [],
   "source": [
    "from selenium import webdriver\n",
    "from selenium.webdriver.common.by import By\n",
    "from selenium.webdriver.common.keys import Keys\n",
    "from selenium.webdriver.chrome.service import Service\n",
    "from webdriver_manager.chrome import ChromeDriverManager\n",
    "import time"
   ]
  },
  {
   "cell_type": "code",
   "execution_count": 3,
   "id": "54330d20",
   "metadata": {},
   "outputs": [],
   "source": [
    "driver = webdriver.Chrome(service=Service(ChromeDriverManager().install()))\n",
    "\n",
    "# Open my scheme home  page\n",
    "driver.get(\"https://www.myscheme.gov.in/\")"
   ]
  },
  {
   "cell_type": "code",
   "execution_count": 4,
   "id": "cbb3335f",
   "metadata": {},
   "outputs": [],
   "source": [
    "buttonnext=driver.find_element(By.XPATH, '//button[text()=\"Find Schemes For You\"]')\n",
    "buttonnext.click()"
   ]
  },
  {
   "cell_type": "code",
   "execution_count": 5,
   "id": "0cf0405e",
   "metadata": {},
   "outputs": [
    {
     "name": "stdout",
     "output_type": "stream",
     "text": [
      "Enter gender: Male\n",
      "Male answerMale\n"
     ]
    }
   ],
   "source": [
    "gender = input(\"Enter gender: \")\n",
    "dict1 = {'Male': 'answerMale', 'Female': 'answerFemale', 'Transgender': 'answerTransgender'}\n",
    "\n",
    "print(gender, dict1.get(gender, \"Unknown gender\"))\n",
    "\n",
    "# Use f-string for correct string formatting\n",
    "element1 = driver.find_element(By.XPATH, f'//label[@for=\"{dict1[gender]}\"]')\n",
    "\n",
    "# Click the element\n",
    "element1.click()\n"
   ]
  },
  {
   "cell_type": "code",
   "execution_count": 6,
   "id": "e434a27f",
   "metadata": {},
   "outputs": [
    {
     "name": "stdout",
     "output_type": "stream",
     "text": [
      "enter your age\n",
      "25\n",
      "Selected option: 25\n"
     ]
    }
   ],
   "source": [
    "from selenium import webdriver\n",
    "from selenium.webdriver.common.by import By\n",
    "from selenium.webdriver.support.ui import Select\n",
    "from webdriver_manager.chrome import ChromeDriverManager\n",
    "print(\"enter your age\")\n",
    "x=int(input())\n",
    "select_element = driver.find_element(By.XPATH, '//select')\n",
    "select = Select(select_element)\n",
    "select.select_by_index(x)\n",
    "selected_option = select.first_selected_option\n",
    "print(f\"Selected option: {selected_option.text}\")\n"
   ]
  },
  {
   "cell_type": "code",
   "execution_count": 10,
   "id": "ec038e0e",
   "metadata": {},
   "outputs": [
    {
     "ename": "ElementClickInterceptedException",
     "evalue": "Message: element click intercepted: Element is not clickable at point (375, 723)\n  (Session info: chrome=131.0.6778.140)\nStacktrace:\n\tGetHandleVerifier [0x004034A3+25059]\n\t(No symbol) [0x0038CEA4]\n\t(No symbol) [0x0026BEC3]\n\t(No symbol) [0x002B5D37]\n\t(No symbol) [0x002B4189]\n\t(No symbol) [0x002B1DAD]\n\t(No symbol) [0x002B10AF]\n\t(No symbol) [0x002A5FD7]\n\t(No symbol) [0x002D1EFC]\n\t(No symbol) [0x002A5A24]\n\t(No symbol) [0x002D2194]\n\t(No symbol) [0x002EB51E]\n\t(No symbol) [0x002D1C96]\n\t(No symbol) [0x002A3FAC]\n\t(No symbol) [0x002A4F3D]\n\tGetHandleVerifier [0x006F5613+3113811]\n\tGetHandleVerifier [0x0070A2DA+3199002]\n\tGetHandleVerifier [0x00702AB2+3168242]\n\tGetHandleVerifier [0x004A3310+680016]\n\t(No symbol) [0x003957ED]\n\t(No symbol) [0x00392A98]\n\t(No symbol) [0x00392C35]\n\t(No symbol) [0x00385890]\n\tBaseThreadInitThunk [0x76465D49+25]\n\tRtlInitializeExceptionChain [0x7788CEBB+107]\n\tRtlGetAppContainerNamedObjectPath [0x7788CE41+561]\n",
     "output_type": "error",
     "traceback": [
      "\u001b[1;31m---------------------------------------------------------------------------\u001b[0m",
      "\u001b[1;31mElementClickInterceptedException\u001b[0m          Traceback (most recent call last)",
      "Cell \u001b[1;32mIn[10], line 2\u001b[0m\n\u001b[0;32m      1\u001b[0m buttonnext\u001b[38;5;241m=\u001b[39mdriver\u001b[38;5;241m.\u001b[39mfind_element(By\u001b[38;5;241m.\u001b[39mXPATH, \u001b[38;5;124m'\u001b[39m\u001b[38;5;124m//button[text()=\u001b[39m\u001b[38;5;124m\"\u001b[39m\u001b[38;5;124mNext\u001b[39m\u001b[38;5;124m\"\u001b[39m\u001b[38;5;124m]\u001b[39m\u001b[38;5;124m'\u001b[39m)\n\u001b[1;32m----> 2\u001b[0m buttonnext\u001b[38;5;241m.\u001b[39mclick()\n",
      "File \u001b[1;32mD:\\pythonFiles\\Lib\\site-packages\\selenium\\webdriver\\remote\\webelement.py:94\u001b[0m, in \u001b[0;36mWebElement.click\u001b[1;34m(self)\u001b[0m\n\u001b[0;32m     92\u001b[0m \u001b[38;5;28;01mdef\u001b[39;00m \u001b[38;5;21mclick\u001b[39m(\u001b[38;5;28mself\u001b[39m) \u001b[38;5;241m-\u001b[39m\u001b[38;5;241m>\u001b[39m \u001b[38;5;28;01mNone\u001b[39;00m:\n\u001b[0;32m     93\u001b[0m \u001b[38;5;250m    \u001b[39m\u001b[38;5;124;03m\"\"\"Clicks the element.\"\"\"\u001b[39;00m\n\u001b[1;32m---> 94\u001b[0m     \u001b[38;5;28mself\u001b[39m\u001b[38;5;241m.\u001b[39m_execute(Command\u001b[38;5;241m.\u001b[39mCLICK_ELEMENT)\n",
      "File \u001b[1;32mD:\\pythonFiles\\Lib\\site-packages\\selenium\\webdriver\\remote\\webelement.py:395\u001b[0m, in \u001b[0;36mWebElement._execute\u001b[1;34m(self, command, params)\u001b[0m\n\u001b[0;32m    393\u001b[0m     params \u001b[38;5;241m=\u001b[39m {}\n\u001b[0;32m    394\u001b[0m params[\u001b[38;5;124m\"\u001b[39m\u001b[38;5;124mid\u001b[39m\u001b[38;5;124m\"\u001b[39m] \u001b[38;5;241m=\u001b[39m \u001b[38;5;28mself\u001b[39m\u001b[38;5;241m.\u001b[39m_id\n\u001b[1;32m--> 395\u001b[0m \u001b[38;5;28;01mreturn\u001b[39;00m \u001b[38;5;28mself\u001b[39m\u001b[38;5;241m.\u001b[39m_parent\u001b[38;5;241m.\u001b[39mexecute(command, params)\n",
      "File \u001b[1;32mD:\\pythonFiles\\Lib\\site-packages\\selenium\\webdriver\\remote\\webdriver.py:354\u001b[0m, in \u001b[0;36mWebDriver.execute\u001b[1;34m(self, driver_command, params)\u001b[0m\n\u001b[0;32m    352\u001b[0m response \u001b[38;5;241m=\u001b[39m \u001b[38;5;28mself\u001b[39m\u001b[38;5;241m.\u001b[39mcommand_executor\u001b[38;5;241m.\u001b[39mexecute(driver_command, params)\n\u001b[0;32m    353\u001b[0m \u001b[38;5;28;01mif\u001b[39;00m response:\n\u001b[1;32m--> 354\u001b[0m     \u001b[38;5;28mself\u001b[39m\u001b[38;5;241m.\u001b[39merror_handler\u001b[38;5;241m.\u001b[39mcheck_response(response)\n\u001b[0;32m    355\u001b[0m     response[\u001b[38;5;124m\"\u001b[39m\u001b[38;5;124mvalue\u001b[39m\u001b[38;5;124m\"\u001b[39m] \u001b[38;5;241m=\u001b[39m \u001b[38;5;28mself\u001b[39m\u001b[38;5;241m.\u001b[39m_unwrap_value(response\u001b[38;5;241m.\u001b[39mget(\u001b[38;5;124m\"\u001b[39m\u001b[38;5;124mvalue\u001b[39m\u001b[38;5;124m\"\u001b[39m, \u001b[38;5;28;01mNone\u001b[39;00m))\n\u001b[0;32m    356\u001b[0m     \u001b[38;5;28;01mreturn\u001b[39;00m response\n",
      "File \u001b[1;32mD:\\pythonFiles\\Lib\\site-packages\\selenium\\webdriver\\remote\\errorhandler.py:229\u001b[0m, in \u001b[0;36mErrorHandler.check_response\u001b[1;34m(self, response)\u001b[0m\n\u001b[0;32m    227\u001b[0m         alert_text \u001b[38;5;241m=\u001b[39m value[\u001b[38;5;124m\"\u001b[39m\u001b[38;5;124malert\u001b[39m\u001b[38;5;124m\"\u001b[39m]\u001b[38;5;241m.\u001b[39mget(\u001b[38;5;124m\"\u001b[39m\u001b[38;5;124mtext\u001b[39m\u001b[38;5;124m\"\u001b[39m)\n\u001b[0;32m    228\u001b[0m     \u001b[38;5;28;01mraise\u001b[39;00m exception_class(message, screen, stacktrace, alert_text)  \u001b[38;5;66;03m# type: ignore[call-arg]  # mypy is not smart enough here\u001b[39;00m\n\u001b[1;32m--> 229\u001b[0m \u001b[38;5;28;01mraise\u001b[39;00m exception_class(message, screen, stacktrace)\n",
      "\u001b[1;31mElementClickInterceptedException\u001b[0m: Message: element click intercepted: Element is not clickable at point (375, 723)\n  (Session info: chrome=131.0.6778.140)\nStacktrace:\n\tGetHandleVerifier [0x004034A3+25059]\n\t(No symbol) [0x0038CEA4]\n\t(No symbol) [0x0026BEC3]\n\t(No symbol) [0x002B5D37]\n\t(No symbol) [0x002B4189]\n\t(No symbol) [0x002B1DAD]\n\t(No symbol) [0x002B10AF]\n\t(No symbol) [0x002A5FD7]\n\t(No symbol) [0x002D1EFC]\n\t(No symbol) [0x002A5A24]\n\t(No symbol) [0x002D2194]\n\t(No symbol) [0x002EB51E]\n\t(No symbol) [0x002D1C96]\n\t(No symbol) [0x002A3FAC]\n\t(No symbol) [0x002A4F3D]\n\tGetHandleVerifier [0x006F5613+3113811]\n\tGetHandleVerifier [0x0070A2DA+3199002]\n\tGetHandleVerifier [0x00702AB2+3168242]\n\tGetHandleVerifier [0x004A3310+680016]\n\t(No symbol) [0x003957ED]\n\t(No symbol) [0x00392A98]\n\t(No symbol) [0x00392C35]\n\t(No symbol) [0x00385890]\n\tBaseThreadInitThunk [0x76465D49+25]\n\tRtlInitializeExceptionChain [0x7788CEBB+107]\n\tRtlGetAppContainerNamedObjectPath [0x7788CE41+561]\n"
     ]
    }
   ],
   "source": [
    "buttonnext=driver.find_element(By.XPATH, '//button[text()=\"Next\"]')\n",
    "buttonnext.click()"
   ]
  },
  {
   "cell_type": "code",
   "execution_count": 11,
   "id": "b5067e5e",
   "metadata": {},
   "outputs": [
    {
     "name": "stdout",
     "output_type": "stream",
     "text": [
      "enter your state from the list below\n",
      "dict_keys(['Andaman and Nicobar Islands', 'Andhra Pradesh', 'Arunachal Pradesh', 'Assam', 'Bihar', 'Chandigarh', 'Chhattisgarh', 'Dadra and Nagar Haveli and Daman and Diu', 'Delhi', 'Goa', 'Gujarat', 'Haryana', 'Himachal Pradesh', 'Jharkhand', 'Karnataka', 'Kerala', 'Ladakh', 'Lakshadweep', 'Madhya Pradesh', 'Maharashtra', 'Manipur', 'Meghalaya', 'Mizoram', 'Nagaland', 'Odisha', 'Puducherry', 'Punjab', 'Rajasthan', 'Sikkim', 'Tamil Nadu', 'Telangana', 'Tripura', 'Uttarakhand', 'Uttar Pradesh', 'West Bengal'])\n",
      "Delhi\n",
      "9\n",
      "Selected option: Delhi\n"
     ]
    }
   ],
   "source": [
    "states_ut_map = {\n",
    "    'Andaman and Nicobar Islands': 1,\n",
    "    'Andhra Pradesh': 2,\n",
    "    'Arunachal Pradesh': 3,\n",
    "    'Assam': 4,\n",
    "    'Bihar': 5,\n",
    "    'Chandigarh': 6,\n",
    "    'Chhattisgarh': 7,\n",
    "    'Dadra and Nagar Haveli and Daman and Diu': 8,\n",
    "    'Delhi': 9,\n",
    "    'Goa': 10,\n",
    "    'Gujarat': 11,\n",
    "    'Haryana': 12,\n",
    "    'Himachal Pradesh': 13,\n",
    "    'Jharkhand': 14,\n",
    "    'Karnataka': 15,\n",
    "    'Kerala': 16,\n",
    "    'Ladakh': 17,\n",
    "    'Lakshadweep': 18,\n",
    "    'Madhya Pradesh': 19,\n",
    "    'Maharashtra': 20,\n",
    "    'Manipur': 21,\n",
    "    'Meghalaya': 22,\n",
    "    'Mizoram': 23,\n",
    "    'Nagaland': 24,\n",
    "    'Odisha': 25,\n",
    "    'Puducherry': 26,\n",
    "    'Punjab': 27,\n",
    "    'Rajasthan': 28,\n",
    "    'Sikkim': 29,\n",
    "    'Tamil Nadu': 30,\n",
    "    'Telangana': 31,\n",
    "    'Tripura': 32,\n",
    "    'Uttarakhand': 33,\n",
    "    'Uttar Pradesh': 34,\n",
    "    'West Bengal': 35\n",
    "}\n",
    "print(\"enter your state from the list below\")\n",
    "print(states_ut_map.keys())\n",
    "st=input()\n",
    "x=states_ut_map[st]\n",
    "print(x)\n",
    "select_element = driver.find_element(By.XPATH, '//select')\n",
    "select = Select(select_element)\n",
    "select.select_by_index(x-1)\n",
    "selected_option = select.first_selected_option\n",
    "print(f\"Selected option: {selected_option.text}\")"
   ]
  },
  {
   "cell_type": "code",
   "execution_count": 12,
   "id": "073e0e35",
   "metadata": {},
   "outputs": [
    {
     "name": "stdout",
     "output_type": "stream",
     "text": [
      "select your area of residence Urban or Rural\n",
      "Urban\n"
     ]
    }
   ],
   "source": [
    "\n",
    "from selenium.webdriver.common.by import By\n",
    "from selenium.webdriver.support.ui import WebDriverWait\n",
    "from selenium.webdriver.support import expected_conditions as EC\n",
    "\n",
    "dict1={'Urban':'answerUrban_residence','Rural':'answerRural_residence'}\n",
    "print(\"select your area of residence Urban or Rural\")\n",
    "st=input()\n",
    "# Wait until the element is clickable\n",
    "element = WebDriverWait(driver, 10).until(\n",
    "    EC.element_to_be_clickable((By.XPATH, f\"//label[@for='{dict1[st]}']\"))\n",
    ")\n",
    "\n",
    "element.click()\n"
   ]
  },
  {
   "cell_type": "code",
   "execution_count": 14,
   "id": "ab6295cc",
   "metadata": {},
   "outputs": [],
   "source": [
    "buttonnext=driver.find_element(By.XPATH, '//button[text()=\"Next\"]')\n",
    "buttonnext.click()"
   ]
  },
  {
   "cell_type": "code",
   "execution_count": 15,
   "id": "776cc3a0",
   "metadata": {},
   "outputs": [
    {
     "name": "stdout",
     "output_type": "stream",
     "text": [
      "enter caste\n",
      "SC\n"
     ]
    }
   ],
   "source": [
    "from selenium.webdriver.common.by import By\n",
    "from selenium.webdriver.support.ui import WebDriverWait\n",
    "from selenium.webdriver.support import expected_conditions as EC\n",
    "dict1={'General':'answerGeneral_caste','OBC':'answerOther Backward Class (OBC)_caste','SC':'answerScheduled Caste (SC)_caste','ST':'answerScheduled Tribe (ST)_caste','PVTG':'answerParticularly Vulnerable Tribal Group (PVTG)_caste'}\n",
    "# Wait until the element is clickable\n",
    "print(\"enter caste\")\n",
    "st=input()\n",
    "element = WebDriverWait(driver, 10).until(\n",
    "    EC.element_to_be_clickable((By.XPATH, f\"//label[@for='{dict1[st]}']\"))\n",
    ")\n",
    "element.click()\n"
   ]
  },
  {
   "cell_type": "code",
   "execution_count": 17,
   "id": "eecd9600",
   "metadata": {},
   "outputs": [],
   "source": [
    "from selenium.webdriver.common.by import By\n",
    "from selenium.webdriver.support.ui import WebDriverWait\n",
    "from selenium.webdriver.support import expected_conditions as EC\n",
    "\n",
    "# Wait until the element is clickable\n",
    "element = WebDriverWait(driver, 10).until(\n",
    "    EC.element_to_be_clickable((By.XPATH, '//button[text()=\"Next\"]'))\n",
    ")\n",
    "element.click()\n",
    "\n"
   ]
  },
  {
   "cell_type": "code",
   "execution_count": 18,
   "id": "03b2ed0f",
   "metadata": {},
   "outputs": [
    {
     "name": "stdout",
     "output_type": "stream",
     "text": [
      "are you differently-abled\n",
      "No\n"
     ]
    }
   ],
   "source": [
    "dict1={'Yes':'answerYes_disability','No':'answerNo_disability'}\n",
    "print(\"are you differently-abled\")\n",
    "st=input()\n",
    "element1=driver.find_element(By.XPATH,f'//label[@for=\"{dict1[st]}\"]')\n",
    "element1.click()\n",
    "if(st=='Yes'):\n",
    "    print(\"enter percentage\")\n",
    "    x=int(input())\n",
    "    select_element = driver.find_element(By.XPATH, '//select')\n",
    "    select = Select(select_element)\n",
    "    select.select_by_index(x)\n",
    "    selected_option = select.first_selected_option\n",
    "    print(f\"Selected option: {selected_option.text}\")\n",
    "    \n"
   ]
  },
  {
   "cell_type": "code",
   "execution_count": 19,
   "id": "16b0cf0c",
   "metadata": {},
   "outputs": [
    {
     "name": "stdout",
     "output_type": "stream",
     "text": [
      "are you minority\n",
      "Yes\n"
     ]
    }
   ],
   "source": [
    "dict1={'Yes':'answerYes_minority','No':'answerNo_minority'}\n",
    "print(\"are you minority\")\n",
    "st=input()\n",
    "element1=driver.find_element(By.XPATH,f'//label[@for=\"{dict1[st]}\"]')\n",
    "element1.click()"
   ]
  },
  {
   "cell_type": "code",
   "execution_count": 22,
   "id": "a46415e5",
   "metadata": {},
   "outputs": [],
   "source": [
    "buttonnext=driver.find_element(By.XPATH, '//button[text()=\"Next\"]')\n",
    "buttonnext.click()"
   ]
  },
  {
   "cell_type": "code",
   "execution_count": 23,
   "id": "88420450",
   "metadata": {},
   "outputs": [
    {
     "name": "stdout",
     "output_type": "stream",
     "text": [
      "are you a student\n",
      "Yes\n"
     ]
    }
   ],
   "source": [
    "dict1={'Yes':'answerYes_isStudent','No':'answerNo_isStudent'}\n",
    "print(\"are you a student\")\n",
    "st=input()\n",
    "element1=driver.find_element(By.XPATH,f'//label[@for=\"{dict1[st]}\"]')\n",
    "element1.click()\n",
    "if(st=='No'):\n",
    "    print('What is your current employment status?')\n",
    "    st2=input()\n",
    "    dict2={'Employed':'answerEmployed_employmentStatus','Unemployed':'answerUnemployed_employmentStatus','Self-Employed':'answerSelf-Employed/ Entrepreneur_employmentStatus'}\n",
    "    element2=driver.find_element(By.XPATH,f'//label[@for=\"{dict2[st2]}\"]')\n",
    "    element2.click()\n",
    "    if(st2=='Employed'):\n",
    "        print('Are you currently working as a government employee?')\n",
    "        st3=input()\n",
    "        dict3={'Yes':'answerYes_isGovEmployee','No':'answerNo_isGovEmployee'}\n",
    "        element3=driver.find_element(By.XPATH,f'//label[@for=\"{dict3[st3]}\"]')\n",
    "        element3.click()\n",
    "        "
   ]
  },
  {
   "cell_type": "code",
   "execution_count": 26,
   "id": "63996c78",
   "metadata": {},
   "outputs": [],
   "source": [
    "buttonnext=driver.find_element(By.XPATH, '//button[text()=\"Next\"]')\n",
    "buttonnext.click()"
   ]
  },
  {
   "cell_type": "code",
   "execution_count": 43,
   "id": "a6f5c10c",
   "metadata": {},
   "outputs": [
    {
     "name": "stdout",
     "output_type": "stream",
     "text": [
      "No\n",
      "Enter your family annual income: 500\n",
      "Enter your parent/guardian annual income: 2330\n"
     ]
    }
   ],
   "source": [
    "map1={\"No\":\"answerNo_isBpl\",\"Yes\":\"answerYes_isBpl\"}\n",
    "st=input()\n",
    "element1=driver.find_element(By.XPATH,f'//label[@for=\"{map1[st]}\"]')\n",
    "element1.click()\n",
    "if st=='No':\n",
    "    # Locate the first input for family annual income\n",
    "    input_element1 = driver.find_element(By.XPATH, '//h2[text()=\"What is your family\\'s annual income?\"]/following-sibling::div//input')\n",
    "    family_income = input(\"Enter your family annual income: \")\n",
    "    input_element1.send_keys(family_income)\n",
    "\n",
    "    # Locate the second input for parent/guardian annual income\n",
    "    input_element2 = driver.find_element(By.XPATH, '//h2[text()=\"What is your parent / guardian\\'s annual income?\"]/following-sibling::div//input')\n",
    "    guardian_income = input(\"Enter your parent/guardian annual income: \")\n",
    "    input_element2.send_keys(guardian_income)\n",
    "else :\n",
    "    \n",
    "    \n",
    "    "
   ]
  },
  {
   "cell_type": "code",
   "execution_count": 40,
   "id": "8c48bef6",
   "metadata": {},
   "outputs": [
    {
     "name": "stdout",
     "output_type": "stream",
     "text": [
      "enter your family income\n",
      "500\n",
      "enter your parent's annual income\n",
      "1000\n"
     ]
    }
   ],
   "source": [
    "input_element.clear()\n",
    "input_element = driver.find_elements(By.XPATH, '//input[@placeholder=\"Enter here\"]')\n",
    "for ele in input_element:\n",
    "    ele.click()\n",
    "    print(\"enter your family income\")\n",
    "    st=input()\n",
    "    input_element.send_keys(st)\n",
    "    print(\"enter your parent's annual income\")\n",
    "    st1=input()\n",
    "    input_element.send_keys(st1)\n",
    "# # Or simulate pressing the Enter key after typing (optional)\n",
    "# input_element.send_keys(Keys.RETURN)"
   ]
  },
  {
   "cell_type": "code",
   "execution_count": 36,
   "id": "6e4fc336",
   "metadata": {},
   "outputs": [],
   "source": [
    "element1 = driver.find_elements(By.CSS_SELECTOR, '.lg\\\\:p-8')\n",
    "for elem in element1:\n",
    "    p_text = elem.find_element(By.TAG_NAME, 'span').text.strip()\n",
    "    links = elem.find_element(By.TAG_NAME, 'a')\n",
    "    hrefs=links.get_attribute('href')\n",
    "    print(p_text)\n",
    "    print(hrefs)"
   ]
  },
  {
   "cell_type": "code",
   "execution_count": null,
   "id": "4ddfa5d5",
   "metadata": {},
   "outputs": [],
   "source": []
  }
 ],
 "metadata": {
  "kernelspec": {
   "display_name": "Python 3 (ipykernel)",
   "language": "python",
   "name": "python3"
  },
  "language_info": {
   "codemirror_mode": {
    "name": "ipython",
    "version": 3
   },
   "file_extension": ".py",
   "mimetype": "text/x-python",
   "name": "python",
   "nbconvert_exporter": "python",
   "pygments_lexer": "ipython3",
   "version": "3.11.5"
  }
 },
 "nbformat": 4,
 "nbformat_minor": 5
}
